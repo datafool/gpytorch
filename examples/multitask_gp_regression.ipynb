{
 "cells": [
  {
   "cell_type": "code",
   "execution_count": 1,
   "metadata": {
    "collapsed": false
   },
   "outputs": [],
   "source": [
    "import math\n",
    "import torch\n",
    "import gpytorch\n",
    "from matplotlib import pyplot as plt\n",
    "\n",
    "%matplotlib inline\n",
    "%load_ext autoreload\n",
    "%autoreload 2"
   ]
  },
  {
   "cell_type": "code",
   "execution_count": 2,
   "metadata": {
    "collapsed": true
   },
   "outputs": [],
   "source": [
    "import logging\n",
    "logger = logging.getLogger()\n",
    "logger.setLevel(logging.INFO)"
   ]
  },
  {
   "cell_type": "code",
   "execution_count": 3,
   "metadata": {
    "collapsed": false
   },
   "outputs": [],
   "source": [
    "from torch.autograd import Variable\n",
    "train_x = Variable(torch.linspace(0, 1, 11))\n",
    "y1_inds = Variable(torch.zeros(11).long())\n",
    "y2_inds = Variable(torch.ones(11).long())\n",
    "train_y1 = Variable(torch.sin(train_x.data * (2 * math.pi)) + torch.randn(train_x.size()) * 0.2)\n",
    "train_y2 = Variable(torch.cos(train_x.data * (2 * math.pi)) + torch.randn(train_x.size()) * 0.2)"
   ]
  },
  {
   "cell_type": "code",
   "execution_count": 4,
   "metadata": {
    "collapsed": false
   },
   "outputs": [],
   "source": [
    "from gpytorch.kernels import RBFKernel, IndexKernel\n",
    "from gpytorch.means import ConstantMean\n",
    "from gpytorch.likelihoods import GaussianLikelihood\n",
    "from gpytorch import ObservationModel\n",
    "from gpytorch.random_variables import GaussianRandomVariable\n",
    "from gpytorch.parameters import MLEParameterGroup\n",
    "from torch.nn import Parameter"
   ]
  },
  {
   "cell_type": "code",
   "execution_count": 5,
   "metadata": {
    "collapsed": false
   },
   "outputs": [],
   "source": [
    "class MultitaskGPModel(gpytorch.ObservationModel):\n",
    "    def __init__(self):\n",
    "        super(MultitaskGPModel,self).__init__(GaussianLikelihood())\n",
    "        self.mean_module = ConstantMean()\n",
    "        self.covar_module = RBFKernel()\n",
    "        self.task_covar_module = IndexKernel()\n",
    "        self.model_params = MLEParameterGroup(\n",
    "            constant_mean=Parameter(torch.randn(1)),\n",
    "            log_noise=Parameter(torch.randn(1)),\n",
    "            log_lengthscale=Parameter(torch.randn(1)),\n",
    "            task_matrix=Parameter(torch.randn(2,1)),\n",
    "            task_log_vars=Parameter(torch.randn(2)),\n",
    "        )\n",
    "    \n",
    "    def forward(self,x,i):\n",
    "        mean_x = self.mean_module(x, constant=self.model_params.constant_mean)\n",
    "        \n",
    "        covar_x = self.covar_module(x, log_lengthscale=self.model_params.log_lengthscale)\n",
    "        covar_i = self.task_covar_module(i, \n",
    "                                         index_covar_factor=self.model_params.task_matrix,\n",
    "                                         index_log_var=self.model_params.task_log_vars)\n",
    "#        covar_i = covar_i.mul((1/covar_i.diag()).expand_as(covar_i))\n",
    "        covar_xi = covar_x.mul(covar_i)\n",
    "        \n",
    "        latent_pred = GaussianRandomVariable(mean_x, covar_xi)\n",
    "        return latent_pred, self.model_params.log_noise\n",
    "\n",
    "prior_observation_model = MultitaskGPModel()"
   ]
  },
  {
   "cell_type": "code",
   "execution_count": 6,
   "metadata": {
    "collapsed": false
   },
   "outputs": [],
   "source": [
    "def plot_model_and_predictions(observation_model):\n",
    "    f, (y1_ax,y2_ax) = plt.subplots(1, 2, figsize=(8, 3))\n",
    "    test_x = Variable(torch.linspace(0, 1, 51))\n",
    "    y1_inds_test = Variable(torch.zeros(51).long())\n",
    "    y2_inds_test = Variable(torch.ones(51).long())\n",
    "    \n",
    "    observed_pred_y1 = observation_model(test_x,y1_inds_test)\n",
    "    observed_pred_y2 = observation_model(test_x,y2_inds_test)\n",
    "\n",
    "    def ax_plot(ax, train_y, rand_var, title):\n",
    "        lower, upper = rand_var.confidence_region()\n",
    "        ax.plot(train_x.data.numpy(), train_y.data.numpy(), 'k*')\n",
    "        ax.plot(test_x.data.numpy(), rand_var.mean().data.numpy(), 'b')\n",
    "        ax.fill_between(test_x.data.numpy(), lower.data.numpy(), upper.data.numpy(), alpha=0.5)\n",
    "        ax.set_ylim([-3, 3])\n",
    "        ax.legend(['Observed Data', 'Mean', 'Confidence'])\n",
    "        ax.set_title(title)\n",
    "    \n",
    "    ax_plot(y1_ax, train_y1, observed_pred_y1, 'Observed Values (Likelihood)')\n",
    "    ax_plot(y2_ax, train_y2, observed_pred_y2, 'Observed Values (Likelihood)')\n",
    "    \n",
    "    return f"
   ]
  },
  {
   "cell_type": "code",
   "execution_count": 7,
   "metadata": {
    "collapsed": false,
    "scrolled": false
   },
   "outputs": [
    {
     "data": {
      "image/png": "[encoded data removed]",
      "text/plain": [
       "<matplotlib.figure.Figure at 0x7f2d7c04e410>"
      ]
     },
     "metadata": {},
     "output_type": "display_data"
    }
   ],
   "source": [
    "f = plot_model_and_predictions(prior_observation_model)"
   ]
  },
  {
   "cell_type": "code",
   "execution_count": 8,
   "metadata": {
    "collapsed": false,
    "scrolled": false
   },
   "outputs": [
    {
     "name": "stdout",
     "output_type": "stream",
     "text": [
      "0 -25.8103237152\n",
      "1 -10.7196598053\n",
      "2 -7.46740913391\n",
      "3 -13.6430549622\n",
      "4 -6.06064653397\n",
      "5 -5.05834007263\n",
      "6 -3.52803564072\n",
      "7 -8.69085407257\n",
      "8 -9.82338809967\n",
      "9 -4.60184240341\n",
      "10 -4.69679117203\n",
      "11 -7.15187978745\n",
      "12 -8.09396934509\n"
     ]
    }
   ],
   "source": [
    "from gpytorch.inference import Inference\n",
    "\n",
    "def log_function(loss, optimizer, observation_model):\n",
    "    return 'Iter: %02d, Loss: %.3f' % (optimizer.n_iter, loss.data[0])\n",
    "\n",
    "infer = Inference(prior_observation_model)\n",
    "posterior_observation_model = infer.run((torch.cat([train_x,train_x]),\n",
    "                                         torch.cat([y1_inds,y2_inds])),\n",
    "                                        torch.cat([train_y1,train_y2]))"
   ]
  },
  {
   "cell_type": "code",
   "execution_count": 9,
   "metadata": {
    "collapsed": false,
    "scrolled": false
   },
   "outputs": [
    {
     "data": {
      "image/png": "[encoded data removed]",
      "text/plain": [
       "<matplotlib.figure.Figure at 0x7f2d310d6dd0>"
      ]
     },
     "metadata": {},
     "output_type": "display_data"
    }
   ],
   "source": [
    "f = plot_model_and_predictions(posterior_observation_model)"
   ]
  },
  {
   "cell_type": "code",
   "execution_count": 10,
   "metadata": {
    "collapsed": false
   },
   "outputs": [
    {
     "data": {
      "text/plain": [
       "MLEParameterGroup(\n",
       "\t - log_noise - \n",
       "-4.1045\n",
       "[torch.FloatTensor of size 1]\n",
       "\n",
       "\t - task_matrix - \n",
       " 0.7381\n",
       " 0.0196\n",
       "[torch.FloatTensor of size 2x1]\n",
       "\n",
       "\t - task_log_vars - \n",
       "-0.7792\n",
       "-0.1486\n",
       "[torch.FloatTensor of size 2]\n",
       "\n",
       "\t - log_lengthscale - \n",
       "-1.8977\n",
       "[torch.FloatTensor of size 1]\n",
       "\n",
       "\t - constant_mean - \n",
       " 0.1906\n",
       "[torch.FloatTensor of size 1]\n",
       "\n",
       ")"
      ]
     },
     "execution_count": 10,
     "metadata": {},
     "output_type": "execute_result"
    }
   ],
   "source": [
    "posterior_observation_model.model_params"
   ]
  },
  {
   "cell_type": "code",
   "execution_count": null,
   "metadata": {
    "collapsed": true
   },
   "outputs": [],
   "source": []
  }
 ],
 "metadata": {
  "anaconda-cloud": {},
  "kernelspec": {
   "display_name": "Python 2",
   "language": "python",
   "name": "python2"
  },
  "language_info": {
   "codemirror_mode": {
    "name": "ipython",
    "version": 2
   },
   "file_extension": ".py",
   "mimetype": "text/x-python",
   "name": "python",
   "nbconvert_exporter": "python",
   "pygments_lexer": "ipython2",
   "version": "2.7.13"
  }
 },
 "nbformat": 4,
 "nbformat_minor": 1
}
